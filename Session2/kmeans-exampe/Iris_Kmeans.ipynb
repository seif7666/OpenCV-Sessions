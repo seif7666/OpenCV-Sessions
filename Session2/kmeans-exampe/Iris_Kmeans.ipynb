{
 "cells": [
  {
   "cell_type": "code",
   "execution_count": null,
   "id": "12d60dd8",
   "metadata": {},
   "outputs": [],
   "source": [
    "from sklearn.datasets import load_iris\n",
    "import numpy as np"
   ]
  },
  {
   "cell_type": "code",
   "execution_count": null,
   "id": "92c71d7a",
   "metadata": {},
   "outputs": [],
   "source": [
    "data= load_iris()\n",
    "print(data)"
   ]
  },
  {
   "cell_type": "code",
   "execution_count": null,
   "id": "6082062b",
   "metadata": {},
   "outputs": [],
   "source": [
    "X= data['data']\n",
    "y= data['target']\n",
    "names= data['target_names']\n",
    "features= ['Sepal Length', 'Sepal Width', 'Petal Length','Petal Width']"
   ]
  },
  {
   "cell_type": "code",
   "execution_count": null,
   "id": "c0fd5d43",
   "metadata": {},
   "outputs": [],
   "source": [
    "sample_X= X[:,[0,1]]"
   ]
  },
  {
   "cell_type": "code",
   "execution_count": null,
   "id": "b667723a",
   "metadata": {},
   "outputs": [],
   "source": [
    "import matplotlib.pyplot as plt\n",
    "colors= ['blue','yellow','red', 'black','green','cyan']"
   ]
  },
  {
   "cell_type": "code",
   "execution_count": null,
   "id": "3a5d01fc",
   "metadata": {},
   "outputs": [],
   "source": [
    "for i in range(len(names)):\n",
    "    part= sample_X[y==i,:]\n",
    "    plt.scatter(part[:,0],part[:,1], label=names[i], color=colors[i], marker='o')\n",
    "plt.xlabel('Sepal Length')\n",
    "plt.ylabel('Sepal Width')\n",
    "\n",
    "plt.legend()\n",
    "plt.show()"
   ]
  },
  {
   "cell_type": "code",
   "execution_count": null,
   "id": "e030a275",
   "metadata": {},
   "outputs": [],
   "source": [
    "from sklearn.cluster import KMeans"
   ]
  },
  {
   "cell_type": "code",
   "execution_count": null,
   "id": "e019f51e",
   "metadata": {},
   "outputs": [],
   "source": [
    "n_clusters=1\n",
    "model= KMeans(n_clusters)"
   ]
  },
  {
   "cell_type": "code",
   "execution_count": null,
   "id": "de29fe42",
   "metadata": {},
   "outputs": [],
   "source": [
    "result=model.fit(sample_X)"
   ]
  },
  {
   "cell_type": "code",
   "execution_count": null,
   "id": "608cebcb",
   "metadata": {},
   "outputs": [],
   "source": [
    "for i in range(n_clusters):\n",
    "    part= sample_X[result.labels_==i]\n",
    "    plt.scatter(part[:,0],part[:,1], color=colors[i])\n",
    "plt.show()"
   ]
  }
 ],
 "metadata": {
  "kernelspec": {
   "display_name": "Python 3 (ipykernel)",
   "language": "python",
   "name": "python3"
  },
  "language_info": {
   "codemirror_mode": {
    "name": "ipython",
    "version": 3
   },
   "file_extension": ".py",
   "mimetype": "text/x-python",
   "name": "python",
   "nbconvert_exporter": "python",
   "pygments_lexer": "ipython3",
   "version": "3.8.10"
  }
 },
 "nbformat": 4,
 "nbformat_minor": 5
}
