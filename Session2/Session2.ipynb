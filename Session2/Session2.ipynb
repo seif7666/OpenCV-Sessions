{
 "cells": [
  {
   "cell_type": "code",
   "execution_count": null,
   "id": "9ab9eefa",
   "metadata": {},
   "outputs": [],
   "source": [
    "import cv2\n",
    "import numpy as np\n",
    "import matplotlib.pyplot as plt\n",
    "plt.rcParams['figure.figsize'] = [10, 5]\n"
   ]
  },
  {
   "cell_type": "code",
   "execution_count": null,
   "id": "3e3f2ba6",
   "metadata": {},
   "outputs": [],
   "source": [
    "def display_img(img):\n",
    "    new_img= cv2.cvtColor(img, cv2.COLOR_BGR2RGB)\n",
    "    plt.imshow(new_img)\n",
    "    plt.show()"
   ]
  },
  {
   "cell_type": "markdown",
   "id": "1bddd5c1",
   "metadata": {},
   "source": [
    "# Section 1"
   ]
  },
  {
   "cell_type": "code",
   "execution_count": null,
   "id": "60445126",
   "metadata": {},
   "outputs": [],
   "source": [
    "bear1= cv2.imread('bear1.jpeg')\n",
    "if bear1 is not None: \n",
    "    display_img(bear1)"
   ]
  },
  {
   "cell_type": "code",
   "execution_count": null,
   "id": "f5294f74",
   "metadata": {},
   "outputs": [],
   "source": [
    "bear1.shape"
   ]
  },
  {
   "cell_type": "code",
   "execution_count": null,
   "id": "936c5e32",
   "metadata": {},
   "outputs": [],
   "source": [
    "##Display an image colored with any value"
   ]
  },
  {
   "cell_type": "code",
   "execution_count": null,
   "id": "60e43c76",
   "metadata": {},
   "outputs": [],
   "source": [
    "red_image= np.zeros((360,360,3), dtype=np.uint8)\n",
    "indices= np.arange(0,360,5)\n",
    "red_image[:,indices,2]=255\n",
    "display_img(red_image)"
   ]
  },
  {
   "cell_type": "markdown",
   "id": "aa1aca53",
   "metadata": {},
   "source": [
    "# Section 2"
   ]
  },
  {
   "cell_type": "code",
   "execution_count": null,
   "id": "4152a148",
   "metadata": {},
   "outputs": [],
   "source": [
    "def extract_color(min_value:np.ndarray, max_value:np.ndarray, img, display=True):\n",
    "    hsv_img= cv2.cvtColor(img, cv2.COLOR_BGR2HSV)\n",
    "    mask= cv2.inRange(hsv_img,min_value,max_value) ## 2D matrix\n",
    "    if display:\n",
    "        display_img(mask)\n",
    "    extracted_img= cv2.bitwise_and(img,img,mask=mask)\n",
    "    return extracted_img"
   ]
  },
  {
   "cell_type": "code",
   "execution_count": null,
   "id": "6377ac26",
   "metadata": {},
   "outputs": [],
   "source": [
    "low_green = np.array([25, 52, 72]).reshape((1,1,3))\n",
    "high_green = np.array([102, 255, 255]).reshape((1,1,3))\n",
    "\n",
    "low_dark_red = np.array([150, 10, 0]).reshape((1,1,3))\n",
    "high_dark_red = np.array([255, 255, 255]).reshape((1,1,3))\n"
   ]
  },
  {
   "cell_type": "code",
   "execution_count": null,
   "id": "60f233ba",
   "metadata": {},
   "outputs": [],
   "source": [
    "cup=cv2.imread('cup.jpeg')\n",
    "display_img(cup)"
   ]
  },
  {
   "cell_type": "code",
   "execution_count": null,
   "id": "3f2e993d",
   "metadata": {},
   "outputs": [],
   "source": [
    "green_img=extract_color(low_green,high_green,cup)"
   ]
  },
  {
   "cell_type": "code",
   "execution_count": null,
   "id": "1c3c559a",
   "metadata": {},
   "outputs": [],
   "source": [
    "display_img(green_img)"
   ]
  },
  {
   "cell_type": "code",
   "execution_count": null,
   "id": "b260d39b",
   "metadata": {},
   "outputs": [],
   "source": [
    "dark_red_img=extract_color(low_dark_red,high_dark_red,cup)"
   ]
  },
  {
   "cell_type": "code",
   "execution_count": null,
   "id": "967d9ef8",
   "metadata": {},
   "outputs": [],
   "source": [
    "cap= cv2.VideoCapture(0)\n",
    "while True:\n",
    "    ret,img= cap.read()\n",
    "#     img= cv2.resize(img, (360,360))\n",
    "    cv2.imshow('Original',img)\n",
    "    cv2.imshow('Green Extracted',extract_color(low_green,high_green,img, False))\n",
    "    if cv2.waitKey(1) == 27:\n",
    "        break\n",
    "cv2.destroyAllWindows()\n",
    "cap.release()    "
   ]
  },
  {
   "cell_type": "markdown",
   "id": "d909910e",
   "metadata": {},
   "source": [
    "# Section 3"
   ]
  },
  {
   "cell_type": "code",
   "execution_count": null,
   "id": "372d73da",
   "metadata": {},
   "outputs": [],
   "source": [
    "import cv2 as cv\n",
    "def getKmeans(clusters, image:np.ndarray):\n",
    "    datapoints= image.reshape((-1,3)).astype(np.float32) # It is a colored image, so each pixel has 3 features\n",
    "    criteria = (cv.TERM_CRITERIA_EPS + cv.TERM_CRITERIA_MAX_ITER, 10, 1.0)\n",
    "    ret,label,center=cv.kmeans(datapoints,clusters,None,criteria,10,cv.KMEANS_RANDOM_CENTERS)\n",
    "#     print(ret)\n",
    "#     print(label)\n",
    "#     print(center)\n",
    "    labels= label.reshape((image.shape[0],image.shape[1]))\n",
    "    for i in range(clusters):\n",
    "        new_image= image.copy()\n",
    "        new_image[labels!=i]= np.uint8([0,0,0])\n",
    "        display_img(new_image)\n",
    "getKmeans(3,cup)"
   ]
  },
  {
   "cell_type": "markdown",
   "id": "0a2790de",
   "metadata": {},
   "source": [
    "# Section 4"
   ]
  },
  {
   "cell_type": "code",
   "execution_count": null,
   "id": "e979b937",
   "metadata": {},
   "outputs": [],
   "source": [
    "x= np.array([1,10,5,6,10,10,1,2,4,5,6,7,10,1])"
   ]
  },
  {
   "cell_type": "code",
   "execution_count": null,
   "id": "81605807",
   "metadata": {},
   "outputs": [],
   "source": [
    "plt.hist(x)\n",
    "plt.ylabel('Frequencies')\n",
    "plt.xlabel('X')\n",
    "plt.show()"
   ]
  },
  {
   "cell_type": "code",
   "execution_count": null,
   "id": "2dc60418",
   "metadata": {},
   "outputs": [],
   "source": [
    "hist = cv.calcHist([cup],[1],None,[256],[0,256])"
   ]
  },
  {
   "cell_type": "code",
   "execution_count": null,
   "id": "c00e861b",
   "metadata": {},
   "outputs": [],
   "source": [
    "hist[:10]"
   ]
  },
  {
   "cell_type": "code",
   "execution_count": null,
   "id": "6b031337",
   "metadata": {},
   "outputs": [],
   "source": [
    "plt.hist(cup.ravel(),16,[0,256]);\n",
    "plt.show()"
   ]
  },
  {
   "cell_type": "code",
   "execution_count": null,
   "id": "d8a6d9e9",
   "metadata": {},
   "outputs": [],
   "source": []
  }
 ],
 "metadata": {
  "kernelspec": {
   "display_name": "Python 3 (ipykernel)",
   "language": "python",
   "name": "python3"
  },
  "language_info": {
   "codemirror_mode": {
    "name": "ipython",
    "version": 3
   },
   "file_extension": ".py",
   "mimetype": "text/x-python",
   "name": "python",
   "nbconvert_exporter": "python",
   "pygments_lexer": "ipython3",
   "version": "3.8.10"
  },
  "vscode": {
   "interpreter": {
    "hash": "916dbcbb3f70747c44a77c7bcd40155683ae19c65e1c03b4aa3499c5328201f1"
   }
  }
 },
 "nbformat": 4,
 "nbformat_minor": 5
}
