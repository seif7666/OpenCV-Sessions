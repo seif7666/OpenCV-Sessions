{
 "cells": [
  {
   "cell_type": "code",
   "execution_count": 66,
   "metadata": {},
   "outputs": [],
   "source": [
    "import cv2\n",
    "import numpy as np\n",
    "import time"
   ]
  },
  {
   "cell_type": "code",
   "execution_count": 67,
   "metadata": {},
   "outputs": [],
   "source": [
    "\"\"\"\n",
    "Reads image and returns the image and its gray scale format. \n",
    "\"\"\"\n",
    "def read_img(img_path:str):\n",
    "    img= cv2.imread(img_path)\n",
    "    return img,cv2.cvtColor(img,cv2.COLOR_BGR2GRAY)"
   ]
  },
  {
   "cell_type": "code",
   "execution_count": 68,
   "metadata": {},
   "outputs": [],
   "source": [
    "def show_image(window_names:list, images:list):\n",
    "    for name,img in zip(window_names,images):\n",
    "        cv2.imshow(name,img)\n",
    "    cv2.waitKey(0)\n",
    "    cv2.destroyAllWindows()"
   ]
  },
  {
   "cell_type": "markdown",
   "metadata": {},
   "source": [
    "# Section1\n",
    "\n",
    "### Line Detection\n",
    "\n",
    "<p> We will cover 3 different techniques wich are :</p>\n",
    "<ul>\n",
    "<li>Hough Lines\n",
    "<li>Hough Lines Transform\n",
    "<li>Fast Line Detector\n",
    "</ul>\n"
   ]
  },
  {
   "cell_type": "code",
   "execution_count": 69,
   "metadata": {},
   "outputs": [],
   "source": [
    "coral_img,coral_gray_img= read_img('pics/coralReef.png')\n",
    "show_image(['Coral REEF', 'Gray Coral REEF'],[ coral_img, coral_gray_img])\n",
    "# show_image(, coral_gray_img)"
   ]
  },
  {
   "cell_type": "code",
   "execution_count": 70,
   "metadata": {},
   "outputs": [],
   "source": [
    "sharpen_kernel= (1/12)*np.array([\n",
    "   [ -1,-2,-1]\n",
    "   ,[-2,24,-2],\n",
    "   [-1,-2,-1]])\n",
    "result= coral_gray_img\n",
    "## First let's do some preprocessing\n",
    "blurring= [3,3,5,5]\n",
    "for i in blurring:\n",
    "    # result= cv2.filter2D(result,-1,sharpen_kernel)\n",
    "    result= cv2.medianBlur(result ,i)\n",
    "    result= cv2.filter2D(result,-1,sharpen_kernel)\n",
    "# result= cv2.medianBlur(result ,5)\n",
    "\n",
    "edges= cv2.Canny(result,25,255)\n",
    "show_image(['Gray Coral REEF','Result', 'EDGE DETECTION'],[  coral_gray_img,result,edges])\n",
    "\n"
   ]
  },
  {
   "cell_type": "code",
   "execution_count": 73,
   "metadata": {},
   "outputs": [
    {
     "name": "stdout",
     "output_type": "stream",
     "text": [
      "Time Elapsed is 1.6167163848876953 ms\n",
      "[294.   0.]\n",
      "[132.   0.]\n",
      "[124.   0.]\n",
      "[233.   0.]\n",
      "[41.          0.05235988]\n",
      "[174.   0.]\n",
      "[7.4000000e+01 3.4906585e-02]\n",
      "[1.2700000e+02 1.7453292e-02]\n",
      "[7.2000000e+01 1.7453292e-02]\n",
      "[253.         1.553343]\n",
      "[255.          1.5184364]\n",
      "[202.          1.5358897]\n"
     ]
    }
   ],
   "source": [
    "from math import pi,cos,sin, floor\n",
    "currentTime= time.time()\n",
    "vertical_lines= cv2.HoughLines(edges,1,pi/180,65,min_theta=0,max_theta=pi*10/180)\n",
    "horizontal_lines= cv2.HoughLines(edges,1,pi/180,65,min_theta=pi*80/180,max_theta=pi*90/180)\n",
    "print(f'Time Elapsed is {(time.time()-currentTime)*1000} ms')\n",
    "output_image= coral_img.copy()\n",
    "def drawLines(lines,image):\n",
    "    for line in lines:\n",
    "        line=line[0]\n",
    "        print(line)\n",
    "        rho = line[0]\n",
    "        theta = line [1];\n",
    "        a = cos(theta)\n",
    "        b = sin(theta);\n",
    "        x0 = a*rho\n",
    "        y0 = b*rho;\n",
    "        x1 = floor(x0 + 1000*(-b))\n",
    "        y1 =floor(y0 + 1000*(a))\n",
    "        x2 =floor(x0 - 1000*(-b))\n",
    "        y2 = floor(y0 - 1000*(a))\n",
    "        cv2.line( image,(x1,y1),(x2,y2),(0,0,255), 3, cv2.LINE_AA);\n",
    "drawLines(vertical_lines,output_image)\n",
    "drawLines(horizontal_lines,output_image)\n",
    "\n",
    "show_image(['Gray Image','Edges Image', 'Line Detection Image'], [coral_gray_img,edges,output_image])\n",
    "    "
   ]
  },
  {
   "cell_type": "code",
   "execution_count": 74,
   "metadata": {},
   "outputs": [
    {
     "name": "stdout",
     "output_type": "stream",
     "text": [
      "Time Elapsed is 7.512807846069336 ms\n"
     ]
    }
   ],
   "source": [
    "currentTime= time.time()\n",
    "lines= cv2.HoughLinesP(edges,1,pi/180,250, minLineLength= 50, maxLineGap=25)\n",
    "print(f'Time Elapsed is {(time.time()-currentTime)*1000} ms')\n",
    "output_img= coral_img.copy()\n",
    "for line in lines:\n",
    "    line=line[0]\n",
    "    cv2.line(output_img, (line[0],line[1]),(line[2],line[3]),(0,0,255), 3, cv2.LINE_AA);\n",
    "show_image(['Probabilistic Detection','edges'], [output_image, edges])\n",
    "\n",
    "    "
   ]
  },
  {
   "cell_type": "code",
   "execution_count": 51,
   "metadata": {},
   "outputs": [
    {
     "name": "stdout",
     "output_type": "stream",
     "text": [
      "[[[133 133 133]\n",
      "  [133 133 133]\n",
      "  [131 131 131]\n",
      "  ...\n",
      "  [106 106 106]\n",
      "  [104 104 104]\n",
      "  [240 240 240]]\n",
      "\n",
      " [[133 133 133]\n",
      "  [133 133 133]\n",
      "  [132 132 132]\n",
      "  ...\n",
      "  [111 111 111]\n",
      "  [109 109 109]\n",
      "  [240 240 240]]\n",
      "\n",
      " [[133 133 133]\n",
      "  [132 132 132]\n",
      "  [133 133 133]\n",
      "  ...\n",
      "  [113 113 113]\n",
      "  [111 111 111]\n",
      "  [240 240 240]]\n",
      "\n",
      " ...\n",
      "\n",
      " [[100 100 100]\n",
      "  [100 100 100]\n",
      "  [101 101 101]\n",
      "  ...\n",
      "  [111 111 111]\n",
      "  [112 112 112]\n",
      "  [240 240 240]]\n",
      "\n",
      " [[100 100 100]\n",
      "  [100 100 100]\n",
      "  [101 101 101]\n",
      "  ...\n",
      "  [107 107 107]\n",
      "  [109 109 109]\n",
      "  [240 240 240]]\n",
      "\n",
      " [[ 99  99  99]\n",
      "  [101 101 101]\n",
      "  [102 102 102]\n",
      "  ...\n",
      "  [105 105 105]\n",
      "  [108 108 108]\n",
      "  [240 240 240]]]\n"
     ]
    }
   ],
   "source": [
    "#pip install opencv-contrib-python\n",
    "\n",
    "# Create default Fast Line Detector class\n",
    "fld = cv2.ximgproc.createFastLineDetector()\n",
    "# Get line vectors from the image\n",
    "lines = fld.detect(edges)\n",
    "lines_without_blur = fld.detect(coral_gray_img)\n",
    "\n",
    "# # Draw lines on the image\n",
    "line_on_image = fld.drawSegments(coral_img, lines)\n",
    "line_on_image2 = fld.drawSegments(coral_img, lines_without_blur)\n",
    "\n",
    "show_image(['Line Detector  On Processed', 'Line detector without Porcessing'], [line_on_image, line_on_image2])\n",
    "\n",
    "# # Plot\n",
    "# plt.imshow(line_on_image, interpolation='nearest', aspect='auto')\n",
    "# plt.show()\n",
    "# return line_on_image"
   ]
  },
  {
   "cell_type": "markdown",
   "metadata": {},
   "source": [
    "# Section2"
   ]
  },
  {
   "cell_type": "code",
   "execution_count": 55,
   "metadata": {},
   "outputs": [],
   "source": [
    "circle_image,circle_gray_image= read_img('pics/circles.png')\n",
    "show_image(['pic'], [circle_image])"
   ]
  },
  {
   "cell_type": "code",
   "execution_count": 59,
   "metadata": {},
   "outputs": [
    {
     "name": "stdout",
     "output_type": "stream",
     "text": [
      "[51 47 33]\n",
      "[219 131  33]\n",
      "[134  47  29]\n",
      "[ 51 131  28]\n",
      "[222  47  33]\n",
      "[134 132  29]\n"
     ]
    }
   ],
   "source": [
    "circles= cv2.HoughCircles(circle_gray_image,cv2.HOUGH_GRADIENT,1.5,20,200,100)[0]\n",
    "output_img= circle_image.copy()\n",
    "for circle in circles:\n",
    "    circle= circle.astype(int)\n",
    "    print(circle)\n",
    "    cv2.circle(output_image,(circle[0],circle[1]), circle[2], (0,255,0),-1,0,0)\n",
    "    cv2.circle( output_img, (circle[0],circle[1]), circle[2], (0,0,255), 3, 8, 0 ) #Outline\n",
    "show_image(['Original','HoughCircles'], [circle_image,output_img])"
   ]
  },
  {
   "cell_type": "markdown",
   "metadata": {},
   "source": [
    "# Section 3"
   ]
  },
  {
   "cell_type": "code",
   "execution_count": 60,
   "metadata": {},
   "outputs": [],
   "source": [
    "show_image(['edges'],[edges])"
   ]
  },
  {
   "cell_type": "code",
   "execution_count": 65,
   "metadata": {},
   "outputs": [],
   "source": [
    "contours, hierarchy = cv2.findContours(edges,cv2.RETR_EXTERNAL, cv2.CHAIN_APPROX_SIMPLE)\n",
    "# output_img= coral_img.copy()\n",
    "output_img1= np.zeros_like(coral_img,dtype=np.uint8)\n",
    "cv2.drawContours(output_img1, contours, -1, (0, 255, 0), -1)\n",
    "  \n",
    "contours, hierarchy = cv2.findContours(edges,cv2.RETR_EXTERNAL, cv2.CHAIN_APPROX_NONE)\n",
    "# output_img= coral_img.copy()\n",
    "output_img2= np.zeros_like(coral_img,dtype=np.uint8)\n",
    "cv2.drawContours(output_img2, contours, -1, (0, 255, 0), -1)\n",
    "\n",
    "show_image(['edges','original','Contours Simple','Contours None'], [edges,coral_img,output_img1,output_img2])"
   ]
  },
  {
   "cell_type": "code",
   "execution_count": 45,
   "metadata": {},
   "outputs": [],
   "source": [
    "## You can calculate area of contour.\n",
    "## You can the perimeter.\n",
    "## You can an approximate contour of a polygon but take care of parameters.\n",
    "## See more examples here:https://docs.opencv.org/3.4/dd/d49/tutorial_py_contour_features.html "
   ]
  },
  {
   "cell_type": "code",
   "execution_count": null,
   "metadata": {},
   "outputs": [],
   "source": []
  }
 ],
 "metadata": {
  "kernelspec": {
   "display_name": "Python 3 (ipykernel)",
   "language": "python",
   "name": "python3"
  },
  "language_info": {
   "codemirror_mode": {
    "name": "ipython",
    "version": 3
   },
   "file_extension": ".py",
   "mimetype": "text/x-python",
   "name": "python",
   "nbconvert_exporter": "python",
   "pygments_lexer": "ipython3",
   "version": "3.8.10"
  },
  "vscode": {
   "interpreter": {
    "hash": "916dbcbb3f70747c44a77c7bcd40155683ae19c65e1c03b4aa3499c5328201f1"
   }
  }
 },
 "nbformat": 4,
 "nbformat_minor": 2
}
