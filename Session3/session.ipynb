{
 "cells": [
  {
   "cell_type": "code",
   "execution_count": 12,
   "metadata": {},
   "outputs": [],
   "source": [
    "import cv2\n",
    "import numpy as np\n",
    "import time"
   ]
  },
  {
   "cell_type": "code",
   "execution_count": 3,
   "metadata": {},
   "outputs": [],
   "source": [
    "\"\"\"\n",
    "Reads image and returns the image and its gray scale format. \n",
    "\"\"\"\n",
    "def read_img(img_path:str):\n",
    "    img= cv2.imread(img_path)\n",
    "    return img,cv2.cvtColor(img,cv2.COLOR_BGR2GRAY)"
   ]
  },
  {
   "cell_type": "code",
   "execution_count": 4,
   "metadata": {},
   "outputs": [],
   "source": [
    "def show_image(window_names:list, images:list):\n",
    "    for name,img in zip(window_names,images):\n",
    "        cv2.imshow(name,img)\n",
    "    cv2.waitKey(0)\n",
    "    cv2.destroyAllWindows()"
   ]
  },
  {
   "cell_type": "markdown",
   "metadata": {},
   "source": [
    "# Section1\n",
    "\n",
    "### Line Detection\n",
    "\n",
    "<p> We will cover 3 different techniques wich are :</p>\n",
    "<ul>\n",
    "<li>Hough Lines\n",
    "<li>Hough Lines Transform\n",
    "<li>Fast Line Detector\n",
    "</ul>\n"
   ]
  },
  {
   "cell_type": "code",
   "execution_count": 5,
   "metadata": {},
   "outputs": [],
   "source": [
    "coral_img,coral_gray_img= read_img('pics/coralReef.png')\n",
    "show_image(['Coral REEF', 'Gray Coral REEF'],[ coral_img, coral_gray_img])\n",
    "# show_image(, coral_gray_img)"
   ]
  },
  {
   "cell_type": "code",
   "execution_count": 6,
   "metadata": {},
   "outputs": [],
   "source": [
    "sharpen_kernel= (1/12)*np.array([\n",
    "   [ -1,-2,-1]\n",
    "   ,[-2,24,-2],\n",
    "   [-1,-2,-1]])\n",
    "result= coral_gray_img\n",
    "## First let's do some preprocessing\n",
    "blurring= [3,3,5,5]\n",
    "for i in blurring:\n",
    "    # result= cv2.filter2D(result,-1,sharpen_kernel)\n",
    "    result= cv2.medianBlur(result ,i)\n",
    "    result= cv2.filter2D(result,-1,sharpen_kernel)\n",
    "# result= cv2.medianBlur(result ,5)\n",
    "\n",
    "edges= cv2.Canny(result,25,255)\n",
    "show_image(['Gray Coral REEF','Result', 'EDGE DETECTION'],[  coral_gray_img,result,edges])\n",
    "\n"
   ]
  },
  {
   "cell_type": "code",
   "execution_count": 19,
   "metadata": {},
   "outputs": [
    {
     "name": "stdout",
     "output_type": "stream",
     "text": [
      "Time Elapsed is 2.941608428955078 ms\n"
     ]
    }
   ],
   "source": [
    "from math import pi,cos,sin, floor\n",
    "currentTime= time.time()\n",
    "vertical_lines= cv2.HoughLines(edges,1,pi/180,65,min_theta=0,max_theta=pi*10/180)\n",
    "horizontal_lines= cv2.HoughLines(edges,1,pi/180,65,min_theta=pi*80/180,max_theta=pi*90/180)\n",
    "print(f'Time Elapsed is {(time.time()-currentTime)*1000} ms')\n",
    "output_image= coral_img.copy()\n",
    "def drawLines(lines,image):\n",
    "    for line in lines:\n",
    "        line=line[0]\n",
    "        rho = line[0]\n",
    "        theta = line [1];\n",
    "        a = cos(theta)\n",
    "        b = sin(theta);\n",
    "        x0 = a*rho\n",
    "        y0 = b*rho;\n",
    "        x1 = floor(x0 + 1000*(-b))\n",
    "        y1 =floor(y0 + 1000*(a))\n",
    "        x2 =floor(x0 - 1000*(-b))\n",
    "        y2 = floor(y0 - 1000*(a))\n",
    "        cv2.line( image,(x1,y1),(x2,y2),(0,0,255), 3, cv2.LINE_AA);\n",
    "drawLines(vertical_lines,output_image)\n",
    "drawLines(horizontal_lines,output_image)\n",
    "\n",
    "show_image(['Gray Image','Edges Image', 'Line Detection Image'], [coral_gray_img,edges,output_image])\n",
    "    "
   ]
  },
  {
   "cell_type": "code",
   "execution_count": 22,
   "metadata": {},
   "outputs": [
    {
     "name": "stdout",
     "output_type": "stream",
     "text": [
      "Time Elapsed is 3.317117691040039 ms\n"
     ]
    }
   ],
   "source": [
    "currentTime= time.time()\n",
    "ines= cv2.HoughLinesP(edges,1,pi/180,65, minLineLength= 0, maxLineGap=0)\n",
    "print(f'Time Elapsed is {(time.time()-currentTime)*1000} ms')\n",
    "output_img= coral_img.copy()\n",
    "for line in lines:\n",
    "    line=line[0]\n",
    "    cv2.line(output_img, (line[0],line[1]),(line[2],line[3]),(0,0,255), 3, cv2.LINE_AA);\n",
    "show_image(['Probabilistic Detection'], [output_image])\n",
    "\n",
    "    "
   ]
  },
  {
   "cell_type": "code",
   "execution_count": 37,
   "metadata": {},
   "outputs": [],
   "source": [
    "# Create default Fast Line Detector class\n",
    "fld = cv2.ximgproc.createFastLineDetector()\n",
    "# Get line vectors from the image\n",
    "lines = fld.detect(edges)\n",
    "lines_without_blur = fld.detect(coral_gray_img)\n",
    "\n",
    "# # Draw lines on the image\n",
    "line_on_image = fld.drawSegments(coral_img, lines)\n",
    "line_on_image2 = fld.drawSegments(coral_img, lines_without_blur)\n",
    "\n",
    "show_image(['Line Detector  On Processed', 'Line detector without Porcessing'], [line_on_image, line_on_image2])\n",
    "\n",
    "# # Plot\n",
    "# plt.imshow(line_on_image, interpolation='nearest', aspect='auto')\n",
    "# plt.show()\n",
    "# return line_on_image"
   ]
  }
 ],
 "metadata": {
  "kernelspec": {
   "display_name": "Python 3.8.10 64-bit",
   "language": "python",
   "name": "python3"
  },
  "language_info": {
   "codemirror_mode": {
    "name": "ipython",
    "version": 3
   },
   "file_extension": ".py",
   "mimetype": "text/x-python",
   "name": "python",
   "nbconvert_exporter": "python",
   "pygments_lexer": "ipython3",
   "version": "3.8.10"
  },
  "orig_nbformat": 4,
  "vscode": {
   "interpreter": {
    "hash": "916dbcbb3f70747c44a77c7bcd40155683ae19c65e1c03b4aa3499c5328201f1"
   }
  }
 },
 "nbformat": 4,
 "nbformat_minor": 2
}
